{
 "cells": [
  {
   "cell_type": "code",
   "execution_count": 1,
   "id": "11805361",
   "metadata": {},
   "outputs": [
    {
     "name": "stdout",
     "output_type": "stream",
     "text": [
      "relativedelta(months=+6, days=+24, hours=+17, minutes=+55, seconds=+35, microseconds=+72742)\n"
     ]
    }
   ],
   "source": [
    "from dateutil import tz, parser\n",
    "from dateutil.relativedelta import relativedelta\n",
    "from datetime import datetime\n",
    "\n",
    "PYCON_DATE = parser.parse(\"May 12, 2023 8:00 PM\")\n",
    "PYCON_DATE = PYCON_DATE.replace(tzinfo = tz.gettz(\"America/New_York\"))\n",
    "now = datetime.now(tz=tz.tzlocal())\n",
    "countdown = relativedelta(PYCON_DATE, now)\n",
    "print(countdown)"
   ]
  },
  {
   "cell_type": "code",
   "execution_count": 3,
   "id": "db20732d",
   "metadata": {},
   "outputs": [
    {
     "name": "stdout",
     "output_type": "stream",
     "text": [
      "<generator object <genexpr> at 0x00000153F4D54C10>\n"
     ]
    }
   ],
   "source": [
    "def timeamoun(time_init: str, countdown:relativedelta): \n",
    "    t = getattr(countdown, time_init)\n",
    "    return f\"{t} {time_init}\" if t != 0 else \"\"\n",
    "\n",
    "time_units = [\"years\", \"months\", \"days\", \"hours\", \"minitues\", \"seconds\"]\n",
    "output = (t for tu in time_units if (t := timeamoun(tu, countdown)))\n",
    "print(output)"
   ]
  },
  {
   "cell_type": "code",
   "execution_count": null,
   "id": "33bbdea4",
   "metadata": {},
   "outputs": [],
   "source": []
  }
 ],
 "metadata": {
  "kernelspec": {
   "display_name": "Python 3 (ipykernel)",
   "language": "python",
   "name": "python3"
  },
  "language_info": {
   "codemirror_mode": {
    "name": "ipython",
    "version": 3
   },
   "file_extension": ".py",
   "mimetype": "text/x-python",
   "name": "python",
   "nbconvert_exporter": "python",
   "pygments_lexer": "ipython3",
   "version": "3.8.11"
  }
 },
 "nbformat": 4,
 "nbformat_minor": 5
}
