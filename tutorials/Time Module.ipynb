{
 "cells": [
  {
   "cell_type": "markdown",
   "id": "9ad00990",
   "metadata": {},
   "source": [
    "###  Methods \n",
    "* time \n",
    "* ctime\n",
    "* sleep\n",
    "* asctime\n",
    "* struct_time\n",
    "* localtime\n",
    "* gmtime\n",
    "* mktime\n",
    "* strftime\n",
    "* strptime\n",
    "\n",
    "### Links\n",
    "https://realpython.com/python-time-module/\n",
    "https://www.programiz.com/python-programming/time\n",
    "https://www.toppr.com/guides/python-guide/tutorials/python-date-time/python-time-module-with-examples/"
   ]
  },
  {
   "cell_type": "code",
   "execution_count": 1,
   "id": "b3d53a24",
   "metadata": {},
   "outputs": [
    {
     "data": {
      "text/plain": [
       "time.struct_time(tm_year=1970, tm_mon=1, tm_mday=1, tm_hour=0, tm_min=0, tm_sec=0, tm_wday=3, tm_yday=1, tm_isdst=0)"
      ]
     },
     "execution_count": 1,
     "metadata": {},
     "output_type": "execute_result"
    }
   ],
   "source": [
    "import time \n",
    "time.gmtime(0)"
   ]
  },
  {
   "cell_type": "code",
   "execution_count": 2,
   "id": "2d827a49",
   "metadata": {},
   "outputs": [],
   "source": [
    "t = time.time()"
   ]
  },
  {
   "cell_type": "code",
   "execution_count": 3,
   "id": "48def7d7",
   "metadata": {},
   "outputs": [
    {
     "data": {
      "text/plain": [
       "'Mon Oct  3 11:31:28 2022'"
      ]
     },
     "execution_count": 3,
     "metadata": {},
     "output_type": "execute_result"
    }
   ],
   "source": [
    "time.ctime()"
   ]
  },
  {
   "cell_type": "code",
   "execution_count": 4,
   "id": "3e00b8ce",
   "metadata": {},
   "outputs": [
    {
     "data": {
      "text/plain": [
       "1664776888969389400"
      ]
     },
     "execution_count": 4,
     "metadata": {},
     "output_type": "execute_result"
    }
   ],
   "source": [
    "time.time_ns()"
   ]
  },
  {
   "cell_type": "code",
   "execution_count": 5,
   "id": "990bca78",
   "metadata": {},
   "outputs": [
    {
     "data": {
      "text/plain": [
       "'Mon Oct  3 11:31:28 2022'"
      ]
     },
     "execution_count": 5,
     "metadata": {},
     "output_type": "execute_result"
    }
   ],
   "source": [
    "time.ctime(t)"
   ]
  },
  {
   "cell_type": "code",
   "execution_count": 6,
   "id": "52cbfd3e",
   "metadata": {},
   "outputs": [],
   "source": [
    "time_tuple = (2022, 10, 2, 11, 47, 10, 6, 276,0 )"
   ]
  },
  {
   "cell_type": "code",
   "execution_count": 7,
   "id": "b9db9c91",
   "metadata": {},
   "outputs": [],
   "source": [
    "from time import struct_time"
   ]
  },
  {
   "cell_type": "code",
   "execution_count": 8,
   "id": "42afd941",
   "metadata": {},
   "outputs": [
    {
     "data": {
      "text/plain": [
       "time.struct_time(tm_year=2022, tm_mon=10, tm_mday=2, tm_hour=11, tm_min=47, tm_sec=10, tm_wday=6, tm_yday=260, tm_isdst=0)"
      ]
     },
     "execution_count": 8,
     "metadata": {},
     "output_type": "execute_result"
    }
   ],
   "source": [
    "time_obj = struct_time(time_tuple)\n",
    "time_obj"
   ]
  },
  {
   "cell_type": "code",
   "execution_count": 9,
   "id": "e5b06419",
   "metadata": {},
   "outputs": [
    {
     "data": {
      "text/plain": [
       "2"
      ]
     },
     "execution_count": 9,
     "metadata": {},
     "output_type": "execute_result"
    }
   ],
   "source": [
    "day_of_the_month = time_obj.tm_mday\n",
    "day_of_the_month"
   ]
  },
  {
   "cell_type": "code",
   "execution_count": 14,
   "id": "745095f2",
   "metadata": {},
   "outputs": [
    {
     "data": {
      "text/plain": [
       "time.struct_time(tm_year=2022, tm_mon=10, tm_mday=3, tm_hour=6, tm_min=17, tm_sec=38, tm_wday=0, tm_yday=276, tm_isdst=0)"
      ]
     },
     "execution_count": 14,
     "metadata": {},
     "output_type": "execute_result"
    }
   ],
   "source": [
    "time.gmtime()"
   ]
  },
  {
   "cell_type": "code",
   "execution_count": 16,
   "id": "45612f9a",
   "metadata": {},
   "outputs": [],
   "source": [
    "import calendar"
   ]
  },
  {
   "cell_type": "code",
   "execution_count": 18,
   "id": "0c09a957",
   "metadata": {},
   "outputs": [
    {
     "data": {
      "text/plain": [
       "1664777997"
      ]
     },
     "execution_count": 18,
     "metadata": {},
     "output_type": "execute_result"
    }
   ],
   "source": [
    "calendar.timegm(time.gmtime())"
   ]
  },
  {
   "cell_type": "code",
   "execution_count": 20,
   "id": "7ad8534f",
   "metadata": {},
   "outputs": [],
   "source": [
    "tt = time.localtime()"
   ]
  },
  {
   "cell_type": "code",
   "execution_count": 21,
   "id": "c1d8de9c",
   "metadata": {},
   "outputs": [
    {
     "data": {
      "text/plain": [
       "'India Standard Time'"
      ]
     },
     "execution_count": 21,
     "metadata": {},
     "output_type": "execute_result"
    }
   ],
   "source": [
    "tt.tm_zone"
   ]
  },
  {
   "cell_type": "code",
   "execution_count": 22,
   "id": "6b249e30",
   "metadata": {},
   "outputs": [
    {
     "data": {
      "text/plain": [
       "19800"
      ]
     },
     "execution_count": 22,
     "metadata": {},
     "output_type": "execute_result"
    }
   ],
   "source": [
    "tt.tm_gmtoff"
   ]
  },
  {
   "cell_type": "markdown",
   "id": "2b944db7",
   "metadata": {},
   "source": [
    "### From String time to object "
   ]
  },
  {
   "cell_type": "code",
   "execution_count": 4,
   "id": "fb9fb538",
   "metadata": {},
   "outputs": [
    {
     "data": {
      "text/plain": [
       "time.struct_time(tm_year=2022, tm_mon=10, tm_mday=5, tm_hour=0, tm_min=0, tm_sec=0, tm_wday=2, tm_yday=278, tm_isdst=-1)"
      ]
     },
     "execution_count": 4,
     "metadata": {},
     "output_type": "execute_result"
    }
   ],
   "source": [
    "time.strptime('10-5-2022', '%m-%d-%Y')"
   ]
  },
  {
   "cell_type": "code",
   "execution_count": 8,
   "id": "db53c453",
   "metadata": {},
   "outputs": [
    {
     "name": "stdout",
     "output_type": "stream",
     "text": [
      "Wed Oct  5 11:45:33 2022\n",
      "Wed Oct  5 11:45:43 2022\n"
     ]
    }
   ],
   "source": [
    "print(time.strftime('%c'))\n",
    "time.sleep(10)\n",
    "print(time.strftime('%c'))"
   ]
  },
  {
   "cell_type": "code",
   "execution_count": 11,
   "id": "420c8a6c",
   "metadata": {},
   "outputs": [
    {
     "name": "stdout",
     "output_type": "stream",
     "text": [
      "-3.01899370000001\n"
     ]
    }
   ],
   "source": [
    "def func_run():\n",
    "    for i in range(1,11):\n",
    "        time.sleep(i/i ** 2)\n",
    "start = time.perf_counter()\n",
    "func_run()\n",
    "end = time.perf_counter()\n",
    "exc_time = start - end \n",
    "print(exc_time)"
   ]
  },
  {
   "cell_type": "code",
   "execution_count": null,
   "id": "ee858b5c",
   "metadata": {},
   "outputs": [],
   "source": []
  }
 ],
 "metadata": {
  "kernelspec": {
   "display_name": "Python 3 (ipykernel)",
   "language": "python",
   "name": "python3"
  },
  "language_info": {
   "codemirror_mode": {
    "name": "ipython",
    "version": 3
   },
   "file_extension": ".py",
   "mimetype": "text/x-python",
   "name": "python",
   "nbconvert_exporter": "python",
   "pygments_lexer": "ipython3",
   "version": "3.8.11"
  }
 },
 "nbformat": 4,
 "nbformat_minor": 5
}
