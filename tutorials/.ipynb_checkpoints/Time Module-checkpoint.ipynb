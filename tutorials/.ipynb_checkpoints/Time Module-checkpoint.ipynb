{
 "cells": [
  {
   "cell_type": "markdown",
   "id": "9ad00990",
   "metadata": {},
   "source": [
    "###  Methods \n",
    "* time \n",
    "* ctime\n",
    "* sleep\n",
    "* asctime\n",
    "* struct_time\n",
    "* localtime\n",
    "* gmtime\n",
    "* mktime\n",
    "* strftime\n",
    "* strptime\n",
    "\n",
    "### Links\n",
    "https://realpython.com/python-time-module/\n",
    "https://www.programiz.com/python-programming/time\n",
    "https://www.toppr.com/guides/python-guide/tutorials/python-date-time/python-time-module-with-examples/"
   ]
  },
  {
   "cell_type": "code",
   "execution_count": 1,
   "id": "b3d53a24",
   "metadata": {},
   "outputs": [
    {
     "data": {
      "text/plain": [
       "time.struct_time(tm_year=1970, tm_mon=1, tm_mday=1, tm_hour=0, tm_min=0, tm_sec=0, tm_wday=3, tm_yday=1, tm_isdst=0)"
      ]
     },
     "execution_count": 1,
     "metadata": {},
     "output_type": "execute_result"
    }
   ],
   "source": [
    "import time \n",
    "time.gmtime(0)"
   ]
  },
  {
   "cell_type": "code",
   "execution_count": 2,
   "id": "2d827a49",
   "metadata": {},
   "outputs": [],
   "source": [
    "t = time.time()"
   ]
  },
  {
   "cell_type": "code",
   "execution_count": 3,
   "id": "48def7d7",
   "metadata": {},
   "outputs": [
    {
     "data": {
      "text/plain": [
       "'Sun Oct  2 11:47:11 2022'"
      ]
     },
     "execution_count": 3,
     "metadata": {},
     "output_type": "execute_result"
    }
   ],
   "source": [
    "time.ctime()"
   ]
  },
  {
   "cell_type": "code",
   "execution_count": 4,
   "id": "3e00b8ce",
   "metadata": {},
   "outputs": [
    {
     "data": {
      "text/plain": [
       "1664691431384948400"
      ]
     },
     "execution_count": 4,
     "metadata": {},
     "output_type": "execute_result"
    }
   ],
   "source": [
    "time.time_ns()"
   ]
  },
  {
   "cell_type": "code",
   "execution_count": 5,
   "id": "990bca78",
   "metadata": {},
   "outputs": [
    {
     "data": {
      "text/plain": [
       "'Sun Oct  2 11:47:10 2022'"
      ]
     },
     "execution_count": 5,
     "metadata": {},
     "output_type": "execute_result"
    }
   ],
   "source": [
    "time.ctime(t)"
   ]
  },
  {
   "cell_type": "code",
   "execution_count": 6,
   "id": "52cbfd3e",
   "metadata": {},
   "outputs": [],
   "source": [
    "time_tuple = (2022, 10, 2, 11, 47, 10, 6, 260,0 )"
   ]
  },
  {
   "cell_type": "code",
   "execution_count": 7,
   "id": "b9db9c91",
   "metadata": {},
   "outputs": [],
   "source": [
    "from time import struct_time"
   ]
  },
  {
   "cell_type": "code",
   "execution_count": 8,
   "id": "42afd941",
   "metadata": {},
   "outputs": [
    {
     "data": {
      "text/plain": [
       "time.struct_time(tm_year=2022, tm_mon=10, tm_mday=2, tm_hour=11, tm_min=47, tm_sec=10, tm_wday=6, tm_yday=260, tm_isdst=0)"
      ]
     },
     "execution_count": 8,
     "metadata": {},
     "output_type": "execute_result"
    }
   ],
   "source": [
    "time_obj = struct_time(time_tuple)\n",
    "time_obj"
   ]
  },
  {
   "cell_type": "code",
   "execution_count": 10,
   "id": "e5b06419",
   "metadata": {},
   "outputs": [
    {
     "data": {
      "text/plain": [
       "2"
      ]
     },
     "execution_count": 10,
     "metadata": {},
     "output_type": "execute_result"
    }
   ],
   "source": [
    "day_of_the_month = time_obj.tm_mday\n",
    "day_of_the_month"
   ]
  },
  {
   "cell_type": "code",
   "execution_count": null,
   "id": "745095f2",
   "metadata": {},
   "outputs": [],
   "source": []
  }
 ],
 "metadata": {
  "kernelspec": {
   "display_name": "Python 3 (ipykernel)",
   "language": "python",
   "name": "python3"
  },
  "language_info": {
   "codemirror_mode": {
    "name": "ipython",
    "version": 3
   },
   "file_extension": ".py",
   "mimetype": "text/x-python",
   "name": "python",
   "nbconvert_exporter": "python",
   "pygments_lexer": "ipython3",
   "version": "3.8.11"
  }
 },
 "nbformat": 4,
 "nbformat_minor": 5
}
