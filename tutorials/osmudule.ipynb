{
 "cells": [
  {
   "cell_type": "code",
   "execution_count": 1,
   "id": "d7b50e36",
   "metadata": {},
   "outputs": [],
   "source": [
    "import os"
   ]
  },
  {
   "cell_type": "code",
   "execution_count": 2,
   "id": "ba887ed7",
   "metadata": {},
   "outputs": [
    {
     "ename": "AttributeError",
     "evalue": "module 'os' has no attribute 'uname'",
     "output_type": "error",
     "traceback": [
      "\u001b[1;31m---------------------------------------------------------------------------\u001b[0m",
      "\u001b[1;31mAttributeError\u001b[0m                            Traceback (most recent call last)",
      "Input \u001b[1;32mIn [2]\u001b[0m, in \u001b[0;36m<cell line: 1>\u001b[1;34m()\u001b[0m\n\u001b[1;32m----> 1\u001b[0m \u001b[43mos\u001b[49m\u001b[38;5;241;43m.\u001b[39;49m\u001b[43muname\u001b[49m()\n",
      "\u001b[1;31mAttributeError\u001b[0m: module 'os' has no attribute 'uname'"
     ]
    }
   ],
   "source": [
    "os.uname() Linux"
   ]
  },
  {
   "cell_type": "code",
   "execution_count": 3,
   "id": "012f5391",
   "metadata": {},
   "outputs": [
    {
     "ename": "AttributeError",
     "evalue": "module 'os' has no attribute 'ctermid'",
     "output_type": "error",
     "traceback": [
      "\u001b[1;31m---------------------------------------------------------------------------\u001b[0m",
      "\u001b[1;31mAttributeError\u001b[0m                            Traceback (most recent call last)",
      "Input \u001b[1;32mIn [3]\u001b[0m, in \u001b[0;36m<cell line: 1>\u001b[1;34m()\u001b[0m\n\u001b[1;32m----> 1\u001b[0m \u001b[43mos\u001b[49m\u001b[38;5;241;43m.\u001b[39;49m\u001b[43mctermid\u001b[49m()\n",
      "\u001b[1;31mAttributeError\u001b[0m: module 'os' has no attribute 'ctermid'"
     ]
    }
   ],
   "source": [
    "os.ctermid() # Linux "
   ]
  },
  {
   "cell_type": "code",
   "execution_count": 4,
   "id": "2b0a2d94",
   "metadata": {},
   "outputs": [
    {
     "data": {
      "text/plain": [
       "'3.8.11 (default, Aug  6 2021, 09:57:55) [MSC v.1916 64 bit (AMD64)]'"
      ]
     },
     "execution_count": 4,
     "metadata": {},
     "output_type": "execute_result"
    }
   ],
   "source": [
    "import sys\n",
    "sys.version"
   ]
  },
  {
   "cell_type": "code",
   "execution_count": 5,
   "id": "0cddcedf",
   "metadata": {},
   "outputs": [
    {
     "data": {
      "text/plain": [
       "environ{'ALLUSERSPROFILE': 'C:\\\\ProgramData',\n",
       "        'APPDATA': 'C:\\\\Users\\\\akafi\\\\AppData\\\\Roaming',\n",
       "        'COMMONPROGRAMFILES': 'C:\\\\Program Files\\\\Common Files',\n",
       "        'COMMONPROGRAMFILES(X86)': 'C:\\\\Program Files (x86)\\\\Common Files',\n",
       "        'COMMONPROGRAMW6432': 'C:\\\\Program Files\\\\Common Files',\n",
       "        'COMPUTERNAME': 'LAPTOP-FBKKAAFC',\n",
       "        'COMSPEC': 'C:\\\\WINDOWS\\\\system32\\\\cmd.exe',\n",
       "        'CONDA_DEFAULT_ENV': 'aima',\n",
       "        'CONDA_EXE': 'C:\\\\Users\\\\akafi\\\\anaconda3\\\\Scripts\\\\conda.exe',\n",
       "        'CONDA_PREFIX': 'C:\\\\Users\\\\akafi\\\\anaconda3\\\\envs\\\\aima',\n",
       "        'CONDA_PROMPT_MODIFIER': '(aima) ',\n",
       "        'CONDA_PYTHON_EXE': 'C:\\\\Users\\\\akafi\\\\anaconda3\\\\python.exe',\n",
       "        'CONDA_SHLVL': '1',\n",
       "        'DRIVERDATA': 'C:\\\\Windows\\\\System32\\\\Drivers\\\\DriverData',\n",
       "        'FPS_BROWSER_APP_PROFILE_STRING': 'Internet Explorer',\n",
       "        'FPS_BROWSER_USER_PROFILE_STRING': 'Default',\n",
       "        'HOMEDRIVE': 'C:',\n",
       "        'HOMEPATH': '\\\\Users\\\\akafi',\n",
       "        'LOCALAPPDATA': 'C:\\\\Users\\\\akafi\\\\AppData\\\\Local',\n",
       "        'LOGONSERVER': '\\\\\\\\LAPTOP-FBKKAAFC',\n",
       "        'NUMBER_OF_PROCESSORS': '8',\n",
       "        'ONEDRIVE': 'C:\\\\Users\\\\akafi\\\\OneDrive',\n",
       "        'ONEDRIVECONSUMER': 'C:\\\\Users\\\\akafi\\\\OneDrive',\n",
       "        'OS': 'Windows_NT',\n",
       "        'PATH': 'C:\\\\Users\\\\akafi\\\\anaconda3\\\\envs\\\\aima;C:\\\\Users\\\\akafi\\\\anaconda3\\\\envs\\\\aima\\\\Library\\\\mingw-w64\\\\bin;C:\\\\Users\\\\akafi\\\\anaconda3\\\\envs\\\\aima\\\\Library\\\\usr\\\\bin;C:\\\\Users\\\\akafi\\\\anaconda3\\\\envs\\\\aima\\\\Library\\\\bin;C:\\\\Users\\\\akafi\\\\anaconda3\\\\envs\\\\aima\\\\Scripts;C:\\\\Users\\\\akafi\\\\anaconda3\\\\envs\\\\aima\\\\bin;C:\\\\Users\\\\akafi\\\\anaconda3\\\\condabin;C:\\\\Program Files\\\\Microsoft\\\\jdk-11.0.12.7-hotspot\\\\bin;C:\\\\WINDOWS\\\\system32;C:\\\\WINDOWS;C:\\\\WINDOWS\\\\System32\\\\Wbem;C:\\\\WINDOWS\\\\System32\\\\WindowsPowerShell\\\\v1.0;C:\\\\WINDOWS\\\\System32\\\\OpenSSH;C:\\\\Program Files\\\\Git\\\\cmd;C:\\\\MinGW\\\\bin;C:\\\\Program Files\\\\Microsoft SQL Server\\\\150\\\\Tools\\\\Binn;C:\\\\Program Files\\\\Microsoft SQL Server\\\\Client SDK\\\\ODBC\\\\170\\\\Tools\\\\Binn;C:\\\\Program Files\\\\dotnet;C:\\\\Users\\\\akafi\\\\AppData\\\\Local\\\\Microsoft\\\\WindowsApps;C:\\\\Users\\\\akafi\\\\AppData\\\\Local\\\\Programs\\\\Microsoft VS Code\\\\bin;C:\\\\MinGW\\\\bin;C:\\\\Users\\\\akafi\\\\.dotnet\\\\tools',\n",
       "        'PATHEXT': '.COM;.EXE;.BAT;.CMD;.VBS;.VBE;.JS;.JSE;.WSF;.WSH;.MSC',\n",
       "        'PROCESSOR_ARCHITECTURE': 'AMD64',\n",
       "        'PROCESSOR_IDENTIFIER': 'Intel64 Family 6 Model 140 Stepping 1, GenuineIntel',\n",
       "        'PROCESSOR_LEVEL': '6',\n",
       "        'PROCESSOR_REVISION': '8c01',\n",
       "        'PROGRAMDATA': 'C:\\\\ProgramData',\n",
       "        'PROGRAMFILES': 'C:\\\\Program Files',\n",
       "        'PROGRAMFILES(X86)': 'C:\\\\Program Files (x86)',\n",
       "        'PROGRAMW6432': 'C:\\\\Program Files',\n",
       "        'PROMPT': '(aima) $P$G',\n",
       "        'PSMODULEPATH': 'C:\\\\Program Files\\\\WindowsPowerShell\\\\Modules;C:\\\\WINDOWS\\\\system32\\\\WindowsPowerShell\\\\v1.0\\\\Modules',\n",
       "        'PUBLIC': 'C:\\\\Users\\\\Public',\n",
       "        'SESSIONNAME': 'Console',\n",
       "        'SYSTEMDRIVE': 'C:',\n",
       "        'SYSTEMROOT': 'C:\\\\WINDOWS',\n",
       "        'TEMP': 'C:\\\\Users\\\\akafi\\\\AppData\\\\Local\\\\Temp',\n",
       "        'TMP': 'C:\\\\Users\\\\akafi\\\\AppData\\\\Local\\\\Temp',\n",
       "        'USERDOMAIN': 'LAPTOP-FBKKAAFC',\n",
       "        'USERDOMAIN_ROAMINGPROFILE': 'LAPTOP-FBKKAAFC',\n",
       "        'USERNAME': 'akafi',\n",
       "        'USERPROFILE': 'C:\\\\Users\\\\akafi',\n",
       "        'VBOX_MSI_INSTALL_PATH': 'C:\\\\Program Files\\\\Oracle\\\\VirtualBox\\\\',\n",
       "        'WINDIR': 'C:\\\\WINDOWS',\n",
       "        'ZES_ENABLE_SYSMAN': '1',\n",
       "        'PYDEVD_USE_FRAME_EVAL': 'NO',\n",
       "        'JPY_INTERRUPT_EVENT': '2612',\n",
       "        'IPY_INTERRUPT_EVENT': '2612',\n",
       "        'JPY_PARENT_PID': '2736',\n",
       "        'TERM': 'xterm-color',\n",
       "        'CLICOLOR': '1',\n",
       "        'PAGER': 'cat',\n",
       "        'GIT_PAGER': 'cat',\n",
       "        'MPLBACKEND': 'module://matplotlib_inline.backend_inline'}"
      ]
     },
     "execution_count": 5,
     "metadata": {},
     "output_type": "execute_result"
    }
   ],
   "source": [
    "os.environ # Environment mapping object that represent the environment as string"
   ]
  },
  {
   "cell_type": "code",
   "execution_count": 6,
   "id": "6c92dda3",
   "metadata": {},
   "outputs": [
    {
     "ename": "AttributeError",
     "evalue": "module 'os' has no attribute 'environb'",
     "output_type": "error",
     "traceback": [
      "\u001b[1;31m---------------------------------------------------------------------------\u001b[0m",
      "\u001b[1;31mAttributeError\u001b[0m                            Traceback (most recent call last)",
      "Input \u001b[1;32mIn [6]\u001b[0m, in \u001b[0;36m<cell line: 1>\u001b[1;34m()\u001b[0m\n\u001b[1;32m----> 1\u001b[0m \u001b[43mos\u001b[49m\u001b[38;5;241;43m.\u001b[39;49m\u001b[43menvironb\u001b[49m\n",
      "\u001b[1;31mAttributeError\u001b[0m: module 'os' has no attribute 'environb'"
     ]
    }
   ],
   "source": [
    "os.environb # bytes environment. same as os.environ"
   ]
  },
  {
   "cell_type": "code",
   "execution_count": 7,
   "id": "c04114b0",
   "metadata": {},
   "outputs": [
    {
     "data": {
      "text/plain": [
       "'.COM;.EXE;.BAT;.CMD;.VBS;.VBE;.JS;.JSE;.WSF;.WSH;.MSC'"
      ]
     },
     "execution_count": 7,
     "metadata": {},
     "output_type": "execute_result"
    }
   ],
   "source": [
    "os.getenv('PATHEXT') # Get'"
   ]
  },
  {
   "cell_type": "code",
   "execution_count": 3,
   "id": "c87d6601",
   "metadata": {},
   "outputs": [
    {
     "data": {
      "text/plain": [
       "'C:\\\\Users\\\\akafi\\\\OneDrive\\\\Desktop\\\\Kaggle\\\\PythonCode\\\\tutorials'"
      ]
     },
     "execution_count": 3,
     "metadata": {},
     "output_type": "execute_result"
    }
   ],
   "source": [
    "os.getcwd()"
   ]
  },
  {
   "cell_type": "code",
   "execution_count": 17,
   "id": "9edbab8b",
   "metadata": {},
   "outputs": [
    {
     "data": {
      "text/plain": [
       "['.ipynb_checkpoints',\n",
       " '.vscode',\n",
       " 'bandasguide',\n",
       " 'Docs',\n",
       " 'fusion360',\n",
       " 'GPUprogramming',\n",
       " 'kaggle',\n",
       " 'Painter Myself',\n",
       " 'PythonCode',\n",
       " 'Pytroch_DL_Book',\n",
       " 'RLBook']"
      ]
     },
     "execution_count": 17,
     "metadata": {},
     "output_type": "execute_result"
    }
   ],
   "source": [
    "os.listdir()\n",
    "os.listdir('../../')"
   ]
  },
  {
   "cell_type": "code",
   "execution_count": 26,
   "id": "eef157e6",
   "metadata": {},
   "outputs": [],
   "source": [
    "os.chdir('../../bandasguide')"
   ]
  },
  {
   "cell_type": "code",
   "execution_count": 28,
   "id": "d58a5dcd",
   "metadata": {},
   "outputs": [
    {
     "data": {
      "text/plain": [
       "['.ipynb_checkpoints',\n",
       " '08a-modules.pdf',\n",
       " 'A03-advanced-01-fun-progr.pdf',\n",
       " 'chapter3.pdf',\n",
       " 'data.txt',\n",
       " 'itertools.pdf',\n",
       " 'itertools.py',\n",
       " 'keyboard-shortcuts.pdf',\n",
       " 'lecture09.pdf',\n",
       " 'osmodule.py',\n",
       " 'osmudule.ipynb',\n",
       " 'python_strings.pdf',\n",
       " 'regex_tutorialsPoint.py',\n",
       " 'sysmodule.py',\n",
       " 'turtorialModule2.py',\n",
       " 'tutorial.py',\n",
       " 'Untitled.ipynb',\n",
       " '__pycache__']"
      ]
     },
     "execution_count": 28,
     "metadata": {},
     "output_type": "execute_result"
    }
   ],
   "source": [
    "os.listdir('../PythonCode/tutorials')"
   ]
  },
  {
   "cell_type": "code",
   "execution_count": 29,
   "id": "eea4d58c",
   "metadata": {},
   "outputs": [
    {
     "data": {
      "text/plain": [
       "'C:\\\\Users\\\\akafi\\\\OneDrive\\\\Desktop\\\\Kaggle\\\\bandasguide'"
      ]
     },
     "execution_count": 29,
     "metadata": {},
     "output_type": "execute_result"
    }
   ],
   "source": [
    "os.getcwd()"
   ]
  },
  {
   "cell_type": "code",
   "execution_count": 30,
   "id": "81d6b873",
   "metadata": {},
   "outputs": [
    {
     "data": {
      "text/plain": [
       "(None, 'C:\\\\Users\\\\akafi\\\\OneDrive\\\\Desktop\\\\Kaggle\\\\PythonCode\\\\tutorials')"
      ]
     },
     "execution_count": 30,
     "metadata": {},
     "output_type": "execute_result"
    }
   ],
   "source": [
    "os.chdir('../PythonCode/tutorials'), os.getcwd()"
   ]
  },
  {
   "cell_type": "code",
   "execution_count": 34,
   "id": "170e6607",
   "metadata": {},
   "outputs": [
    {
     "name": "stdout",
     "output_type": "stream",
     "text": [
      "['Fusion 360 Client Downloader.exe']\n",
      "['alphabetRangoli.py', 'mergetools.py', 'minionGame.py', 'test.py']\n",
      "['ppo.py', 'PPO_Tutorial.ipynb', 'youtube_cartpole_ppo_follow.ipynb']\n",
      "['PPO_Tutorial-checkpoint.ipynb', 'youtube_cartpole_ppo_follow-checkpoint.ipynb']\n",
      "['arrayqueue.py', 'binsearchrec.py', 'bpriorityq.py', 'dllqueue.py', 'editbuffer.py', 'formatString.py', 'llistqueue.py', 'maze.py', 'merge.py', 'NQueensRec.py', 'PostfixEvaluation.py', 'PPO.py', 'practiceDeletable.py', 'practiceLinkedList.py', 'pylistqueue.py', 'quicksort.py', 'radixsort.py', 'recursion.py', 'simpeople.py', 'simulation.py', 'sparsematrix.py', 'StackLinkList.py', 'StackList.py', 'TheBuildHist.py', 'thehashmap.py', 'Thepriorityq.py']\n",
      "['08a-modules.pdf', 'A03-advanced-01-fun-progr.pdf', 'chapter3.pdf', 'data.txt', 'itertools.pdf', 'itertools.py', 'keyboard-shortcuts.pdf', 'lecture09.pdf', 'osmodule.py', 'osmudule.ipynb', 'python_strings.pdf', 'regex_tutorialsPoint.py', 'sysmodule.py', 'turtorialModule2.py', 'tutorial.py', 'Untitled.ipynb']\n",
      "['osmudule-checkpoint.ipynb', 'Untitled-checkpoint.ipynb']\n",
      "['turtorialModule2.cpython-37.pyc', 'tutorial.cpython-37.pyc']\n",
      "['llistqueue.cpython-37.pyc']\n",
      "[]\n"
     ]
    }
   ],
   "source": [
    "for dirpath, dirnames, filenames in os.walk('C:/Users/akafi/OneDrive/Desktop/Kaggle/PythonCode/'):\n",
    "    #print(dirpath)\n",
    "    #print(dirnames)\n",
    "    print(filenames)"
   ]
  },
  {
   "cell_type": "code",
   "execution_count": 13,
   "id": "74bac2fa",
   "metadata": {},
   "outputs": [
    {
     "data": {
      "text/plain": [
       "'PythonCode/tutorials\\\\books\\\\'"
      ]
     },
     "execution_count": 13,
     "metadata": {},
     "output_type": "execute_result"
    }
   ],
   "source": [
    "# Day 4\n",
    "import os\n",
    "base_path = 'PythonCode/tutorials'\n",
    "os.path.join(base_path, 'books', \"\") # For concatenation of paths. "
   ]
  },
  {
   "cell_type": "code",
   "execution_count": 19,
   "id": "ff4fca2c",
   "metadata": {},
   "outputs": [],
   "source": [
    "path = ['C:','path', 'kaan', 'meel', 'ku', 'sheeg']\n",
    "path = os.path.join(*path)"
   ]
  },
  {
   "cell_type": "code",
   "execution_count": 21,
   "id": "e1dc342b",
   "metadata": {},
   "outputs": [
    {
     "data": {
      "text/plain": [
       "'sheeg'"
      ]
     },
     "execution_count": 21,
     "metadata": {},
     "output_type": "execute_result"
    }
   ],
   "source": [
    "os.path.basename(path)"
   ]
  },
  {
   "cell_type": "code",
   "execution_count": 1,
   "id": "6fd593be",
   "metadata": {},
   "outputs": [
    {
     "data": {
      "text/plain": [
       "('/files/get', 'basename')"
      ]
     },
     "execution_count": 1,
     "metadata": {},
     "output_type": "execute_result"
    }
   ],
   "source": [
    "# Day 6\n",
    "import os\n",
    "os.path.split('/files/get/basename') # Splits the path into directory and basename and return a tuple."
   ]
  },
  {
   "cell_type": "code",
   "execution_count": 14,
   "id": "2238edca",
   "metadata": {},
   "outputs": [
    {
     "data": {
      "text/plain": [
       "'/files/get/bahalada'"
      ]
     },
     "execution_count": 14,
     "metadata": {},
     "output_type": "execute_result"
    }
   ],
   "source": [
    "os.path.dirname('/files/get/bahalada/bakhiil') # Returns the directory only."
   ]
  },
  {
   "cell_type": "code",
   "execution_count": 9,
   "id": "e2ff170b",
   "metadata": {},
   "outputs": [
    {
     "data": {
      "text/plain": [
       "'/files/get/'"
      ]
     },
     "execution_count": 9,
     "metadata": {},
     "output_type": "execute_result"
    }
   ],
   "source": [
    "# Returns the longest common prefix of all the paths.\n",
    "os.path.commonprefix(['/files/get/lax.dhukan', '/files/get/basename/garatay', '/files/get/basename/taalaa/sxb.jpg'])  "
   ]
  },
  {
   "cell_type": "code",
   "execution_count": 10,
   "id": "88ce9d23",
   "metadata": {},
   "outputs": [
    {
     "data": {
      "text/plain": [
       "1662877195.947626"
      ]
     },
     "execution_count": 10,
     "metadata": {},
     "output_type": "execute_result"
    }
   ],
   "source": [
    "os.path.getmtime('C:/Users/akafi/OneDrive/Desktop/Kaggle/PythonCode/') # Return Last time modified"
   ]
  },
  {
   "cell_type": "code",
   "execution_count": 13,
   "id": "c449c153",
   "metadata": {},
   "outputs": [
    {
     "data": {
      "text/plain": [
       "1664259297.7383666"
      ]
     },
     "execution_count": 13,
     "metadata": {},
     "output_type": "execute_result"
    }
   ],
   "source": [
    "os.path.getatime('C:/Users/akafi/OneDrive/Desktop/Kaggle/GPUprogramming/') # Return last accessed"
   ]
  },
  {
   "cell_type": "code",
   "execution_count": 3,
   "id": "a10e10b5",
   "metadata": {},
   "outputs": [
    {
     "data": {
      "text/plain": [
       "1664075805.997615"
      ]
     },
     "execution_count": 3,
     "metadata": {},
     "output_type": "execute_result"
    }
   ],
   "source": [
    "os.path.getctime('C:/Users/akafi/OneDrive/Desktop/Kaggle/GPUprogramming/') # Returns Creation time"
   ]
  },
  {
   "cell_type": "code",
   "execution_count": 2,
   "id": "c28b4fff",
   "metadata": {},
   "outputs": [],
   "source": [
    "## Day 7"
   ]
  },
  {
   "cell_type": "code",
   "execution_count": 4,
   "id": "2bc436c8",
   "metadata": {},
   "outputs": [
    {
     "data": {
      "text/plain": [
       "'C:\\\\Users\\\\akafi\\\\OneDrive\\\\Desktop\\\\Kaggle\\\\GPUprogramming'"
      ]
     },
     "execution_count": 4,
     "metadata": {},
     "output_type": "execute_result"
    }
   ],
   "source": [
    "os.path.abspath('C:/Users/akafi/OneDrive/Desktop/Kaggle/GPUprogramming/')"
   ]
  },
  {
   "cell_type": "code",
   "execution_count": 5,
   "id": "0c9a8c83",
   "metadata": {},
   "outputs": [
    {
     "data": {
      "text/plain": [
       "'C:\\\\Users\\\\akafi\\\\OneDrive\\\\Desktop\\\\Kaggle\\\\GPUprogramming'"
      ]
     },
     "execution_count": 5,
     "metadata": {},
     "output_type": "execute_result"
    }
   ],
   "source": [
    "os.path.normpath('C:\\\\Users\\\\akafi\\\\OneDrive\\\\Desktop\\\\Kaggle\\\\GPUprogramming')"
   ]
  },
  {
   "cell_type": "code",
   "execution_count": 9,
   "id": "014fdc5c",
   "metadata": {},
   "outputs": [
    {
     "data": {
      "text/plain": [
       "'C:\\\\Users\\\\akafi\\\\OneDrive\\\\Desktop\\\\Kaggle\\\\GPUprogramming\\\\bahal\\\\buuraha'"
      ]
     },
     "execution_count": 9,
     "metadata": {},
     "output_type": "execute_result"
    }
   ],
   "source": [
    "os.path.normpath('C:/Users/akafi////OneDrive/Desktop/Kaggle\\\\/GPUprogramming/bahal/buuraha') # Returns Normalized path depending p the os."
   ]
  },
  {
   "cell_type": "code",
   "execution_count": 10,
   "id": "eb396d4d",
   "metadata": {},
   "outputs": [
    {
     "data": {
      "text/plain": [
       "'c:\\\\users\\\\akafi\\\\onedrive\\\\desktop\\\\kaggle\\\\gpuprogramming\\\\'"
      ]
     },
     "execution_count": 10,
     "metadata": {},
     "output_type": "execute_result"
    }
   ],
   "source": [
    "os.path.normcase('C:/Users/akafi/OneDrive/Desktop/Kaggle/GPUprogramming/')"
   ]
  },
  {
   "cell_type": "code",
   "execution_count": 13,
   "id": "202ef285",
   "metadata": {},
   "outputs": [
    {
     "data": {
      "text/plain": [
       "False"
      ]
     },
     "execution_count": 13,
     "metadata": {},
     "output_type": "execute_result"
    }
   ],
   "source": [
    "os.path.isfile('C:/Users/akafi/OneDrive/Desktop/Kaggle/GPUprogramming/')"
   ]
  },
  {
   "cell_type": "code",
   "execution_count": 15,
   "id": "3683a495",
   "metadata": {},
   "outputs": [
    {
     "data": {
      "text/plain": [
       "False"
      ]
     },
     "execution_count": 15,
     "metadata": {},
     "output_type": "execute_result"
    }
   ],
   "source": [
    "os.path.isdir('C:/Users/akafi/OneDrive/Desktop/Kaggle/GPUprogramming/firstprogram.cpp')"
   ]
  },
  {
   "cell_type": "code",
   "execution_count": 17,
   "id": "c9c14e89",
   "metadata": {},
   "outputs": [
    {
     "data": {
      "text/plain": [
       "True"
      ]
     },
     "execution_count": 17,
     "metadata": {},
     "output_type": "execute_result"
    }
   ],
   "source": [
    "os.path.isabs('C:/Users/akafi/OneDrive/Desktop/Kaggle/GPUprogramming/bahal')"
   ]
  },
  {
   "cell_type": "code",
   "execution_count": 19,
   "id": "7c9aa874",
   "metadata": {},
   "outputs": [
    {
     "data": {
      "text/plain": [
       "True"
      ]
     },
     "execution_count": 19,
     "metadata": {},
     "output_type": "execute_result"
    }
   ],
   "source": [
    "os.path.isabs('c://users//akafi//onedrive//desktop//kaggle//gpuprogramming/firstprogram.cpp')"
   ]
  },
  {
   "cell_type": "code",
   "execution_count": 20,
   "id": "f82d1dab",
   "metadata": {},
   "outputs": [
    {
     "data": {
      "text/plain": [
       "True"
      ]
     },
     "execution_count": 20,
     "metadata": {},
     "output_type": "execute_result"
    }
   ],
   "source": [
    "os.path.isfile('c://users//akafi//onedrive//desktop//kaggle//gpuprogramming/firstprogram.cpp')"
   ]
  },
  {
   "cell_type": "code",
   "execution_count": 21,
   "id": "ee474d37",
   "metadata": {},
   "outputs": [
    {
     "data": {
      "text/plain": [
       "True"
      ]
     },
     "execution_count": 21,
     "metadata": {},
     "output_type": "execute_result"
    }
   ],
   "source": [
    "os.path.exists('c://users//akafi//onedrive//desktop//kaggle//gpuprogramming/firstprogram.cpp')"
   ]
  },
  {
   "cell_type": "code",
   "execution_count": 22,
   "id": "bcad1dfd",
   "metadata": {},
   "outputs": [
    {
     "data": {
      "text/plain": [
       "False"
      ]
     },
     "execution_count": 22,
     "metadata": {},
     "output_type": "execute_result"
    }
   ],
   "source": [
    "os.path.exists('c://users//akafi//onedrive//desktop//kaggle//gpuprogramming/yaxas')"
   ]
  },
  {
   "cell_type": "code",
   "execution_count": null,
   "id": "c4fe0d33",
   "metadata": {},
   "outputs": [],
   "source": []
  }
 ],
 "metadata": {
  "kernelspec": {
   "display_name": "Python 3 (ipykernel)",
   "language": "python",
   "name": "python3"
  },
  "language_info": {
   "codemirror_mode": {
    "name": "ipython",
    "version": 3
   },
   "file_extension": ".py",
   "mimetype": "text/x-python",
   "name": "python",
   "nbconvert_exporter": "python",
   "pygments_lexer": "ipython3",
   "version": "3.8.11"
  }
 },
 "nbformat": 4,
 "nbformat_minor": 5
}
