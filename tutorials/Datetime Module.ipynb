{
 "cells": [
  {
   "cell_type": "markdown",
   "id": "35452fec",
   "metadata": {},
   "source": [
    "#### https://realpython.com/python-datetime/"
   ]
  },
  {
   "cell_type": "code",
   "execution_count": 1,
   "id": "78d1e019",
   "metadata": {},
   "outputs": [],
   "source": [
    "from datetime import date, time, datetime"
   ]
  },
  {
   "cell_type": "code",
   "execution_count": 2,
   "id": "e3bfa008",
   "metadata": {},
   "outputs": [
    {
     "data": {
      "text/plain": [
       "datetime.datetime(2022, 10, 9, 11, 31, 16, 561762)"
      ]
     },
     "execution_count": 2,
     "metadata": {},
     "output_type": "execute_result"
    }
   ],
   "source": [
    "datetime.today() # creates a datetime.date instance with the current local date and time."
   ]
  },
  {
   "cell_type": "code",
   "execution_count": 3,
   "id": "f876cd07",
   "metadata": {},
   "outputs": [
    {
     "data": {
      "text/plain": [
       "datetime.datetime(2022, 10, 9, 11, 31, 59, 749485)"
      ]
     },
     "execution_count": 3,
     "metadata": {},
     "output_type": "execute_result"
    }
   ],
   "source": [
    "datetime.now() # Current local time and date."
   ]
  },
  {
   "cell_type": "code",
   "execution_count": 4,
   "id": "c9221618",
   "metadata": {},
   "outputs": [],
   "source": [
    "# datetime.compine() - compines datetime.date & datetime.time"
   ]
  },
  {
   "cell_type": "code",
   "execution_count": 5,
   "id": "c37a5fd8",
   "metadata": {},
   "outputs": [
    {
     "data": {
      "text/plain": [
       "datetime.date(2022, 10, 9)"
      ]
     },
     "execution_count": 5,
     "metadata": {},
     "output_type": "execute_result"
    }
   ],
   "source": [
    "date.today()"
   ]
  },
  {
   "cell_type": "code",
   "execution_count": 7,
   "id": "83be442e",
   "metadata": {},
   "outputs": [
    {
     "ename": "NameError",
     "evalue": "name 'now' is not defined",
     "output_type": "error",
     "traceback": [
      "\u001b[1;31m---------------------------------------------------------------------------\u001b[0m",
      "\u001b[1;31mNameError\u001b[0m                                 Traceback (most recent call last)",
      "Input \u001b[1;32mIn [7]\u001b[0m, in \u001b[0;36m<cell line: 1>\u001b[1;34m()\u001b[0m\n\u001b[1;32m----> 1\u001b[0m time(\u001b[43mnow\u001b[49m\u001b[38;5;241m.\u001b[39mhour,minute, second)\n",
      "\u001b[1;31mNameError\u001b[0m: name 'now' is not defined"
     ]
    }
   ],
   "source": [
    "time(now.hour,minute, second)"
   ]
  },
  {
   "cell_type": "code",
   "execution_count": 9,
   "id": "ba21106c",
   "metadata": {},
   "outputs": [
    {
     "data": {
      "text/plain": [
       "datetime.datetime(2022, 10, 9, 6, 8, 53, 188835)"
      ]
     },
     "execution_count": 9,
     "metadata": {},
     "output_type": "execute_result"
    }
   ],
   "source": [
    "datetime.utcnow()"
   ]
  },
  {
   "cell_type": "code",
   "execution_count": 12,
   "id": "5da971e4",
   "metadata": {},
   "outputs": [
    {
     "data": {
      "text/plain": [
       "datetime.date(2022, 10, 9)"
      ]
     },
     "execution_count": 12,
     "metadata": {},
     "output_type": "execute_result"
    }
   ],
   "source": [
    "date.fromisoformat('2022-10-09')"
   ]
  },
  {
   "cell_type": "code",
   "execution_count": 15,
   "id": "99888927",
   "metadata": {},
   "outputs": [
    {
     "data": {
      "text/plain": [
       "datetime.datetime(2022, 10, 9, 11, 48, 43)"
      ]
     },
     "execution_count": 15,
     "metadata": {},
     "output_type": "execute_result"
    }
   ],
   "source": [
    "datestring = \"2022-10-09 11:48:43\"\n",
    "frmstring = \"%Y-%m-%d %H:%M:%S\"\n",
    "datetime.strptime(datestring, frmstring)"
   ]
  },
  {
   "cell_type": "code",
   "execution_count": 24,
   "id": "0fff4ec9",
   "metadata": {},
   "outputs": [
    {
     "data": {
      "text/plain": [
       "'09-10-2022'"
      ]
     },
     "execution_count": 24,
     "metadata": {},
     "output_type": "execute_result"
    }
   ],
   "source": [
    "date.strftime(date.today(),\"%d-%m-%Y\")"
   ]
  },
  {
   "cell_type": "code",
   "execution_count": 25,
   "id": "a9b03e7b",
   "metadata": {},
   "outputs": [
    {
     "data": {
      "text/plain": [
       "'09/10/2022 11:59:18'"
      ]
     },
     "execution_count": 25,
     "metadata": {},
     "output_type": "execute_result"
    }
   ],
   "source": [
    "now = datetime.now()\n",
    "datetimestr = now.strftime(\"%d/%m/%Y %H:%M:%S\")\n",
    "datetimestr"
   ]
  },
  {
   "cell_type": "code",
   "execution_count": null,
   "id": "576a32b6",
   "metadata": {},
   "outputs": [],
   "source": []
  }
 ],
 "metadata": {
  "kernelspec": {
   "display_name": "Python 3 (ipykernel)",
   "language": "python",
   "name": "python3"
  },
  "language_info": {
   "codemirror_mode": {
    "name": "ipython",
    "version": 3
   },
   "file_extension": ".py",
   "mimetype": "text/x-python",
   "name": "python",
   "nbconvert_exporter": "python",
   "pygments_lexer": "ipython3",
   "version": "3.8.11"
  }
 },
 "nbformat": 4,
 "nbformat_minor": 5
}
